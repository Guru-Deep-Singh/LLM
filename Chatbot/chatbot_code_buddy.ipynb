{
 "cells": [
  {
   "cell_type": "markdown",
   "id": "6d6cf3c9-6978-4e28-980d-33e143f79f21",
   "metadata": {},
   "source": [
    "# Chatbot : CodeBuddy"
   ]
  },
  {
   "cell_type": "markdown",
   "id": "65b33c50-a9c8-4749-a490-303c8a94c8e7",
   "metadata": {},
   "source": [
    "![Gradio Based Chatbot](../images/chatbot_code_buddy.png)"
   ]
  },
  {
   "cell_type": "code",
   "execution_count": null,
   "id": "1a9f8071-35b4-4c70-b902-984c42541739",
   "metadata": {},
   "outputs": [],
   "source": [
    "#imports\n",
    "import os\n",
    "import sys\n",
    "from dotenv import load_dotenv\n",
    "from openai import OpenAI\n",
    "import gradio as gr"
   ]
  },
  {
   "cell_type": "code",
   "execution_count": null,
   "id": "551c45cc-b8e4-4f51-9986-bce71255f8c4",
   "metadata": {},
   "outputs": [],
   "source": [
    "# Importing the CodeBuddy class\n",
    "localPath = \"../Code_Buddy/\"\n",
    "absolutePath = os.path.abspath(localPath)\n",
    "\n",
    "if absolutePath not in sys.path:\n",
    "    sys.path.append(absolutePath)\n",
    "\n",
    "from CodeBuddy import CodeBuddy       "
   ]
  },
  {
   "cell_type": "code",
   "execution_count": null,
   "id": "361775dc-22f7-496e-a034-8a1c7d1d4d6c",
   "metadata": {},
   "outputs": [],
   "source": [
    "myBuddy = CodeBuddy(\"openai\", \"gpt-4o-mini\")\n",
    "systemPrompt = \"You are a helpful and informed coding agent.\\\n",
    "            You are given a piece of code. You have to check if the code is correct or is incorrect.\\\n",
    "            You need to explain the code in beginner friendy way.\\\n",
    "            You are also allowed to give suggestions on improvement of code for runtime optimization.\\\n",
    "            Give your answer in Markdown.\""
   ]
  },
  {
   "cell_type": "code",
   "execution_count": null,
   "id": "b9b99c7a-bfd4-409b-bfa4-f3e85c74622a",
   "metadata": {},
   "outputs": [],
   "source": [
    "def chat(message, history):\n",
    "    userPrompt = history + [{\"role\": \"user\", \"content\": message}]\n",
    "\n",
    "    stream = myBuddy.runChatbot(userPrompt=userPrompt,systemPrompt=systemPrompt)\n",
    "    response = \"\"\n",
    "    for chunk in stream:\n",
    "        response += chunk.choices[0].delta.content or ''\n",
    "        yield response\n"
   ]
  },
  {
   "cell_type": "code",
   "execution_count": null,
   "id": "a42754ec-ecd7-438b-ade2-97f4576b0fe2",
   "metadata": {},
   "outputs": [],
   "source": [
    "gr.ChatInterface(fn=chat, type=\"messages\").launch(inbrowser=True)"
   ]
  }
 ],
 "metadata": {
  "kernelspec": {
   "display_name": "Python 3 (ipykernel)",
   "language": "python",
   "name": "python3"
  },
  "language_info": {
   "codemirror_mode": {
    "name": "ipython",
    "version": 3
   },
   "file_extension": ".py",
   "mimetype": "text/x-python",
   "name": "python",
   "nbconvert_exporter": "python",
   "pygments_lexer": "ipython3",
   "version": "3.11.13"
  }
 },
 "nbformat": 4,
 "nbformat_minor": 5
}
