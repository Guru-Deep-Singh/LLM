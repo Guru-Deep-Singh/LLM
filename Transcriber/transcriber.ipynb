{
 "cells": [
  {
   "cell_type": "markdown",
   "id": "deb92e1c-5ac5-47ae-ab8e-90bea172c30c",
   "metadata": {},
   "source": [
    "# Transcriber: Speech to Text\n",
    "**Support**\n",
    "- OpenAI: whisper-1\n",
    "- whisper(loacally): \"base\", \"small\", \"medium\" and \"large\""
   ]
  },
  {
   "cell_type": "code",
   "execution_count": null,
   "id": "eec7a7bb-39b1-4e71-a960-fdcdb283dd68",
   "metadata": {},
   "outputs": [],
   "source": [
    "import os\n",
    "import sys\n",
    "from dotenv import load_dotenv\n",
    "from openai import OpenAI\n",
    "!pip install git+https://github.com/openai/whisper.git"
   ]
  },
  {
   "cell_type": "code",
   "execution_count": null,
   "id": "9f72bba5-770d-43b8-ba84-e19a1c6eaf37",
   "metadata": {},
   "outputs": [],
   "source": [
    "from Transcriber import Transcriber"
   ]
  },
  {
   "cell_type": "code",
   "execution_count": null,
   "id": "2ed1c921-3d75-4802-ae66-faa7126c4e56",
   "metadata": {},
   "outputs": [],
   "source": [
    "myTranscribe = Transcriber(\"whisper\", \"medium\")"
   ]
  },
  {
   "cell_type": "code",
   "execution_count": null,
   "id": "480546f1-52d4-40cc-bdfe-442b5eba0573",
   "metadata": {},
   "outputs": [],
   "source": [
    "import gradio as gr"
   ]
  },
  {
   "cell_type": "code",
   "execution_count": null,
   "id": "8d7a2127-d8a6-43ad-93f1-5e93e627fc00",
   "metadata": {},
   "outputs": [],
   "source": [
    "with gr.Blocks() as ui:\n",
    "    with gr.Row():\n",
    "        with gr.Column(scale=1):\n",
    "            mic_input = gr.Audio(sources=\"microphone\", type=\"filepath\", label=\"Speak now\")\n",
    "            entry = gr.Textbox(label=\"Chat with our AI Assistant:\")\n",
    "            clear = gr.Button(\"Clear\")\n",
    "\n",
    "    # Submit from speech\n",
    "    mic_input.change(\n",
    "        fn= myTranscribe.run,\n",
    "        inputs=[mic_input],\n",
    "        outputs=[entry]\n",
    "    )\n",
    "\n",
    "    clear.click(\n",
    "    fn=lambda: (\"\", None),  # Return empty string and None to reset both\n",
    "    inputs=[],\n",
    "    outputs=[entry, mic_input],\n",
    "    queue=False\n",
    "    )\n",
    "\n",
    "ui.launch(inbrowser=True)"
   ]
  }
 ],
 "metadata": {
  "kernelspec": {
   "display_name": "Python 3 (ipykernel)",
   "language": "python",
   "name": "python3"
  },
  "language_info": {
   "codemirror_mode": {
    "name": "ipython",
    "version": 3
   },
   "file_extension": ".py",
   "mimetype": "text/x-python",
   "name": "python",
   "nbconvert_exporter": "python",
   "pygments_lexer": "ipython3",
   "version": "3.11.13"
  }
 },
 "nbformat": 4,
 "nbformat_minor": 5
}
