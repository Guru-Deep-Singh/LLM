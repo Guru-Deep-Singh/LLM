{
 "cells": [
  {
   "cell_type": "markdown",
   "id": "712e080c-c454-4b85-bf56-91922f254a0a",
   "metadata": {},
   "source": [
    "# Medium Blog Summarizer - With Ollama using OpenAI API Framework"
   ]
  },
  {
   "cell_type": "code",
   "execution_count": null,
   "id": "1d3d554b-e00d-4c08-9300-45e073950a76",
   "metadata": {},
   "outputs": [],
   "source": [
    "!ollama pull llama3.2"
   ]
  },
  {
   "cell_type": "code",
   "execution_count": null,
   "id": "3ac2a73f-837b-4637-b197-d2e9a4c7af62",
   "metadata": {},
   "outputs": [],
   "source": [
    "# imports\n",
    "import os\n",
    "import requests\n",
    "from dotenv import load_dotenv\n",
    "from bs4 import BeautifulSoup\n",
    "from IPython.display import Markdown, display\n",
    "from openai import OpenAI\n"
   ]
  },
  {
   "cell_type": "code",
   "execution_count": null,
   "id": "6de38216-6d1c-48c4-877b-86d403f4e0f8",
   "metadata": {},
   "outputs": [],
   "source": [
    "# A class to represent a Webpage\n",
    "# Some websites need you to use proper headers when fetching them:\n",
    "headers = {\n",
    " \"User-Agent\": \"Mozilla/5.0 (Windows NT 10.0; Win64; x64) AppleWebKit/537.36 (KHTML, like Gecko) Chrome/117.0.0.0 Safari/537.36\"\n",
    "}\n",
    "\n",
    "class Website:\n",
    "\n",
    "    def __init__(self, url):\n",
    "        \"\"\"\n",
    "        Create this Website object from the given url using the BeautifulSoup library\n",
    "        \"\"\"\n",
    "        self.url = url\n",
    "        response = requests.get(url, headers=headers)\n",
    "        soup = BeautifulSoup(response.content, 'html.parser')\n",
    "        self.title = soup.title.string if soup.title else \"No title found\"\n",
    "        for irrelevant in soup.body([\"script\", \"style\", \"img\", \"input\"]):\n",
    "            irrelevant.decompose()\n",
    "        self.text = soup.body.get_text(separator=\"\\n\", strip=True)"
   ]
  },
  {
   "cell_type": "code",
   "execution_count": null,
   "id": "41263e6f-5691-4ec9-93a8-e859a83fa396",
   "metadata": {},
   "outputs": [],
   "source": [
    "system_prompt_guru = \"You are a scientific assistant. You have to help summarize a blog post.\\\n",
    "Please tell about the most important findings and anything the author emphasizes.\\\n",
    "Give the output in markdown.\"\n"
   ]
  },
  {
   "cell_type": "code",
   "execution_count": null,
   "id": "f95c27e9-c795-46d5-b4ce-4cec83b08cbc",
   "metadata": {},
   "outputs": [],
   "source": [
    "guru_blog = \"https://gurudeep1998.medium.com/w-net-a-deep-model-for-fully-unsupervised-image-segmentation-reproduction-2651540eaed6\"\n",
    "\n"
   ]
  },
  {
   "cell_type": "code",
   "execution_count": null,
   "id": "41b3fc54-9a38-4345-8e1b-868e2b3c8e28",
   "metadata": {},
   "outputs": [],
   "source": [
    "# Ollama runs a server where requests can be sent for computation\n",
    "ollama_via_openai = OpenAI(base_url='http://localhost:11434/v1', api_key='ollama')"
   ]
  },
  {
   "cell_type": "code",
   "execution_count": null,
   "id": "3244a462-58e7-4ba6-8dcc-41369ff795c3",
   "metadata": {},
   "outputs": [],
   "source": [
    "def user_prompt_for_blog(website):\n",
    "    user_prompt = f\"You are looking at a blog titled {website.title}\"\n",
    "    user_prompt += \"\\nThe contents of this blog is as follows; \\\n",
    "please provide a summary of this blog in markdown. \\\n",
    "If it includes references any research papers and github links, please provide their links also.\\n\\n\"\n",
    "    user_prompt += website.text\n",
    "    return user_prompt\n",
    "\n",
    "\n",
    "def summarize_medium_blog_ollama(url, system_prompt, model=\"llama3.2\"):\n",
    "    website = Website(url)\n",
    "    response = ollama_via_openai.chat.completions.create(\n",
    "        model = model,\n",
    "        messages = [{\"role\": \"system\", \"content\": system_prompt},\n",
    "           {\"role\": \"user\", \"content\": user_prompt_for_blog(website)}]\n",
    "    )\n",
    "    return response.choices[0].message.content"
   ]
  },
  {
   "cell_type": "code",
   "execution_count": null,
   "id": "6cbea18e-b21e-4e22-89d2-a4701124409a",
   "metadata": {},
   "outputs": [],
   "source": [
    "\n",
    "print(display(Markdown(summarize_medium_blog_ollama(guru_blog, system_prompt_guru, \"llama3.2\"))))"
   ]
  },
  {
   "cell_type": "code",
   "execution_count": null,
   "id": "0e45abac-11a0-41a1-8f3f-d7a57ca9f992",
   "metadata": {},
   "outputs": [],
   "source": [
    "# Let's check with another model\n",
    "!ollama pull deepseek-r1:1.5b"
   ]
  },
  {
   "cell_type": "code",
   "execution_count": null,
   "id": "fffcb036-7572-4080-aaa2-41a585b0041e",
   "metadata": {},
   "outputs": [],
   "source": [
    "print(display(Markdown(summarize_medium_blog_ollama(guru_blog, system_prompt_guru, \"deepseek-r1:1.5b\"))))"
   ]
  },
  {
   "cell_type": "code",
   "execution_count": null,
   "id": "89a2b34f-0015-4eae-9ad3-d8ebd788889b",
   "metadata": {},
   "outputs": [],
   "source": []
  }
 ],
 "metadata": {
  "kernelspec": {
   "display_name": "Python 3 (ipykernel)",
   "language": "python",
   "name": "python3"
  },
  "language_info": {
   "codemirror_mode": {
    "name": "ipython",
    "version": 3
   },
   "file_extension": ".py",
   "mimetype": "text/x-python",
   "name": "python",
   "nbconvert_exporter": "python",
   "pygments_lexer": "ipython3",
   "version": "3.11.13"
  }
 },
 "nbformat": 4,
 "nbformat_minor": 5
}
