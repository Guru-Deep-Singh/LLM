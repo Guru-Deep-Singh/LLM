{
 "cells": [
  {
   "cell_type": "markdown",
   "id": "d112d953-4033-4da2-85b3-f2992d42a81a",
   "metadata": {},
   "source": [
    "# Generate Company's Brochure with Multi-shot Prompting"
   ]
  },
  {
   "cell_type": "code",
   "execution_count": null,
   "id": "abb1b03d-f0eb-4b82-8065-07faa44d80d4",
   "metadata": {},
   "outputs": [],
   "source": [
    "# importing necessary libraries\n",
    "import os\n",
    "import requests\n",
    "import json\n",
    "from typing import List\n",
    "from dotenv import load_dotenv\n",
    "from bs4 import BeautifulSoup\n",
    "from IPython.display import Markdown, display, update_display\n",
    "from openai import OpenAI"
   ]
  },
  {
   "cell_type": "code",
   "execution_count": null,
   "id": "cb1f0d53-ca5c-4367-a3cd-84e27fb72de3",
   "metadata": {},
   "outputs": [],
   "source": [
    "# Initialize and constants\n",
    "\n",
    "load_dotenv(override=True)\n",
    "api_key = os.getenv('OPENAI_API_KEY')\n",
    "\n",
    "if api_key and api_key.startswith('sk-proj-') and len(api_key)>10:\n",
    "    print(\"API key looks good so far\")\n",
    "else:\n",
    "    print(\"There might be a problem with your API key? Please visit the troubleshooting notebook!\")\n",
    "    \n",
    "MODEL = 'gpt-4o-mini'\n",
    "openai = OpenAI()"
   ]
  },
  {
   "cell_type": "code",
   "execution_count": null,
   "id": "47d3beb8-d1d9-48fb-839c-8d6d71c2dee1",
   "metadata": {},
   "outputs": [],
   "source": [
    "# A class to Parse webpage\n",
    "\n",
    "# Some websites need you to use proper headers when fetching them:\n",
    "headers = {\n",
    " \"User-Agent\": \"Mozilla/5.0 (Windows NT 10.0; Win64; x64) AppleWebKit/537.36 (KHTML, like Gecko) Chrome/117.0.0.0 Safari/537.36\"\n",
    "}\n",
    "\n",
    "class Website:\n",
    "    \"\"\"\n",
    "    A utility class to represent a Website that we have scraped, now with links\n",
    "    \"\"\"\n",
    "\n",
    "    def __init__(self, url):\n",
    "        self.url = url\n",
    "        response = requests.get(url, headers=headers)\n",
    "        self.body = response.content\n",
    "        soup = BeautifulSoup(self.body, 'html.parser')\n",
    "        self.title = soup.title.string if soup.title else \"No title found\"\n",
    "        if soup.body:\n",
    "            for irrelevant in soup.body([\"script\", \"style\", \"img\", \"input\"]):\n",
    "                irrelevant.decompose()\n",
    "            self.text = soup.body.get_text(separator=\"\\n\", strip=True)\n",
    "        else:\n",
    "            self.text = \"\"\n",
    "        links = [link.get('href') for link in soup.find_all('a')]\n",
    "        self.links = [link for link in links if link]\n",
    "\n",
    "    def get_contents(self):\n",
    "        return f\"Webpage Title:\\n{self.title}\\nWebpage Contents:\\n{self.text}\\n\\n\"\n"
   ]
  },
  {
   "cell_type": "code",
   "execution_count": null,
   "id": "39ee0c72-3999-4c24-afc1-33f9e2c55d59",
   "metadata": {},
   "outputs": [],
   "source": [
    "conti = Website(\"https://www.continental-automotive.com/en.html\")\n",
    "#conti.links"
   ]
  },
  {
   "cell_type": "markdown",
   "id": "0118886e-bf74-4ab4-8234-b982951fa36f",
   "metadata": {},
   "source": [
    "# Let's use the LLMs to find relevant Links using Multi-shot Prompting "
   ]
  },
  {
   "cell_type": "code",
   "execution_count": null,
   "id": "f5b05341-638d-4584-83e7-d7d851c75dd4",
   "metadata": {},
   "outputs": [],
   "source": [
    "system_prompt = \"You are provided with a list of links found on a webpage. \\\n",
    "You are able to decide which of the links would be most relevant to include in a brochure about the company, \\\n",
    "such as links to an About page, or a Company page, or Careers/Jobs pages.\\n\"\n",
    "system_prompt += \"You should respond in JSON as in this example:\"\n",
    "system_prompt += \"\"\"\n",
    "{\n",
    "    \"links\": [\n",
    "        {\"type\": \"about page\", \"url\": \"https://full.url/goes/here/about\"},\n",
    "        {\"type\": \"careers page\": \"url\": \"https://another.full.url/careers\"}\n",
    "    ]\n",
    "}\\n\n",
    "\"\"\"\n",
    "system_prompt += \"You should definitely include at least one link relating to media websites like Youtube/LinkedIn if available. \\\n",
    "You should respond in JSON as in this example:\"\n",
    "system_prompt += \"\"\"\n",
    "{\n",
    "    \"links\": [\n",
    "        {\"type\": \"social media\", \"url\": \"https://full.url/goes/here/about/media\"},\n",
    "    ]\n",
    "}\n",
    "\"\"\""
   ]
  },
  {
   "cell_type": "code",
   "execution_count": null,
   "id": "cc00b65a-1f0f-4762-aa91-6754c5a3db48",
   "metadata": {},
   "outputs": [],
   "source": [
    "print(system_prompt)"
   ]
  },
  {
   "cell_type": "code",
   "execution_count": null,
   "id": "6821cc33-24cf-42c5-9f66-5ffb736f3139",
   "metadata": {},
   "outputs": [],
   "source": [
    "def get_links_user_prompt(website):\n",
    "    user_prompt = f\"Here is the list of links on the website of {website.url} - \"\n",
    "    user_prompt += \"please decide which of these are relevant web links for a brochure about the company, respond with the full https URL in JSON format. \\\n",
    "Do not include Terms of Service, Privacy, email links.\\n\"\n",
    "    user_prompt += \"Links (some might be relative links):\\n\"\n",
    "    user_prompt += \"\\n\".join(website.links)\n",
    "    return user_prompt"
   ]
  },
  {
   "cell_type": "code",
   "execution_count": null,
   "id": "b3694055-cafe-4b15-91b7-d9353bf9f7f7",
   "metadata": {},
   "outputs": [],
   "source": [
    "print(get_links_user_prompt(conti))"
   ]
  },
  {
   "cell_type": "markdown",
   "id": "8abec4ee-0def-4fd1-b418-0d7caae5a679",
   "metadata": {},
   "source": [
    "# Calling the API"
   ]
  },
  {
   "cell_type": "code",
   "execution_count": null,
   "id": "e75af4a0-0353-4059-b690-8eaaafbffcd3",
   "metadata": {},
   "outputs": [],
   "source": [
    "def get_links(url):\n",
    "    website = Website(url)\n",
    "    response = openai.chat.completions.create(\n",
    "        model = MODEL,\n",
    "        messages = [\n",
    "            {\"role\": \"system\", \"content\": system_prompt},\n",
    "            {\"role\": \"user\", \"content\": get_links_user_prompt(website)}\n",
    "        ],\n",
    "        response_format={\"type\": \"json_object\"}\n",
    "    )\n",
    "    return json.loads(response.choices[0].message.content)"
   ]
  },
  {
   "cell_type": "code",
   "execution_count": null,
   "id": "d2f6e101-e9f2-4947-a105-99d66882f2d1",
   "metadata": {},
   "outputs": [],
   "source": [
    "# Call\n",
    "get_links(\"https://www.continental-automotive.com/en.html\")"
   ]
  },
  {
   "cell_type": "markdown",
   "id": "a273cd5f-9905-4425-a758-123b97be1d06",
   "metadata": {},
   "source": [
    "# Making second API call\n",
    "We will now use the contents of the first call to make a second call to make the brochure"
   ]
  },
  {
   "cell_type": "code",
   "execution_count": null,
   "id": "a26a510f-be86-4bca-88e8-c751ee3365bb",
   "metadata": {},
   "outputs": [],
   "source": [
    "def get_all_details(url):\n",
    "    result = \"Landing page:\\n\"\n",
    "    result += Website(url).get_contents()\n",
    "    links = get_links(url)\n",
    "    print(\"Found links:\", links)\n",
    "    for link in links[\"links\"]:\n",
    "        result += f\"\\n\\n{link['type']}\\n\"\n",
    "        result += Website(link[\"url\"]).get_contents()\n",
    "    return result"
   ]
  },
  {
   "cell_type": "code",
   "execution_count": null,
   "id": "12e82db0-80dd-450e-b1d4-08d241b574ed",
   "metadata": {},
   "outputs": [],
   "source": [
    "#print(get_all_details(\"https://www.continental-automotive.com/en.html\"))"
   ]
  },
  {
   "cell_type": "code",
   "execution_count": null,
   "id": "5f9be2ef-e162-4690-b0a8-24986cc3e203",
   "metadata": {},
   "outputs": [],
   "source": [
    "system_prompt_brochure = \"You are an assistant that analyzes the contents of several relevant pages from a company website \\\n",
    "and creates a short brochure about the company for prospective customers, investors and recruits. Respond in markdown.\\\n",
    "Include details of company culture, customers and careers/jobs if you have the information.\\\n",
    "If you have information about company's social media, emphasize it in the brochure with emojis of that social media platform.\""
   ]
  },
  {
   "cell_type": "code",
   "execution_count": null,
   "id": "e24d7598-28ce-41b4-a2fb-9399ea82cf0a",
   "metadata": {},
   "outputs": [],
   "source": [
    "def get_brochure_user_prompt(company_name, url):\n",
    "    user_prompt = f\"You are looking at a company called: {company_name}\\n\"\n",
    "    user_prompt += f\"Here are the contents of its landing page and other relevant pages; use this information to build a short brochure of the company in markdown.\\n\"\n",
    "    user_prompt += get_all_details(url)\n",
    "    user_prompt = user_prompt[:20_000] # Truncate if more than 5,000 characters\n",
    "    return user_prompt"
   ]
  },
  {
   "cell_type": "code",
   "execution_count": null,
   "id": "37688f72-95ce-48cc-a875-a4e3ec6cd991",
   "metadata": {},
   "outputs": [],
   "source": [
    "def create_brochure(company_name, url):\n",
    "    response = openai.chat.completions.create(\n",
    "        model=MODEL,\n",
    "        messages=[\n",
    "            {\"role\": \"system\", \"content\": system_prompt_brochure},\n",
    "            {\"role\": \"user\", \"content\": get_brochure_user_prompt(company_name, url)}\n",
    "          ]\n",
    "    )\n",
    "    result = response.choices[0].message.content\n",
    "    display(Markdown(result))"
   ]
  },
  {
   "cell_type": "code",
   "execution_count": null,
   "id": "9d89d26d-d992-4246-b5b0-86584e1803a7",
   "metadata": {},
   "outputs": [],
   "source": [
    "create_brochure(\"Continental Automotive\", \"https://www.continental-automotive.com/en.html\")"
   ]
  },
  {
   "cell_type": "markdown",
   "id": "0850faf1-780f-42b0-98ee-87a591028ae6",
   "metadata": {},
   "source": [
    "# Streaming in contents instead of block"
   ]
  },
  {
   "cell_type": "code",
   "execution_count": null,
   "id": "0d50fffc-4d65-4b62-9db1-736bf139bb15",
   "metadata": {},
   "outputs": [],
   "source": [
    "# Streaming the contents\n",
    "def stream_brochure(company_name, url):\n",
    "    stream = openai.chat.completions.create(\n",
    "        model=MODEL,\n",
    "        messages=[\n",
    "            {\"role\": \"system\", \"content\": system_prompt_brochure},\n",
    "            {\"role\": \"user\", \"content\": get_brochure_user_prompt(company_name, url)}\n",
    "          ],\n",
    "        stream=True\n",
    "    )\n",
    "    \n",
    "    response = \"\"\n",
    "    display_handle = display(Markdown(\"\"), display_id=True)\n",
    "    for chunk in stream:\n",
    "        response += chunk.choices[0].delta.content or ''\n",
    "        response = response.replace(\"```\",\"\").replace(\"markdown\", \"\")\n",
    "        update_display(Markdown(response), display_id=display_handle.display_id)"
   ]
  },
  {
   "cell_type": "code",
   "execution_count": null,
   "id": "3e29b7b2-c6b7-45f2-905a-367fa42667eb",
   "metadata": {},
   "outputs": [],
   "source": [
    "stream_brochure(\"Continental Automotive\", \"https://www.continental-automotive.com/en.html\")"
   ]
  },
  {
   "cell_type": "markdown",
   "id": "9193df1c-b09d-4021-8d28-c2368c14c246",
   "metadata": {},
   "source": [
    "# Using Ollama for Brochure\n",
    "We are using llama3.2 and it was observed that it could not produce satisfying results for some complex websites"
   ]
  },
  {
   "cell_type": "code",
   "execution_count": null,
   "id": "2d8a48d5-d63e-4453-9d89-2470308452fe",
   "metadata": {},
   "outputs": [],
   "source": [
    "#Constants\n",
    "OLLAMA_API = \"http://localhost:11434/api/chat\"\n",
    "HEADERS = {\"Content-Type\": \"application/json\"}\n",
    "MODEL = \"llama3.2\""
   ]
  },
  {
   "cell_type": "code",
   "execution_count": null,
   "id": "5d6e5c00-bbb4-45eb-a354-11c8ad0cf267",
   "metadata": {},
   "outputs": [],
   "source": [
    "ollama_via_openai = OpenAI(base_url='http://localhost:11434/v1', api_key='ollama')\n",
    "\n",
    "# Keeping system prompt single shot for llama3.2 capabilities --> 1st Call\n",
    "system_prompt = \"You are provided with a list of links found on a webpage. \\\n",
    "You are able to decide which of the links would be most relevant to include in a brochure about the company, \\\n",
    "such as links to an About page, or a Company page, or Careers/Jobs pages.\\n\"\n",
    "system_prompt += \"You should respond in JSON as in this example:\"\n",
    "system_prompt += \"\"\"\n",
    "{\n",
    "    \"links\": [\n",
    "        {\"type\": \"about page\", \"url\": \"https://full.url/goes/here/about\"},\n",
    "        {\"type\": \"careers page\": \"url\": \"https://another.full.url/careers\"}\n",
    "    ]\n",
    "}\n",
    "\"\"\"\n",
    "# 2nd Call\n",
    "system_prompt_brochure = \"You are an assistant that analyzes the contents of several relevant pages from a company website \\\n",
    "and creates a short brochure about the company for prospective customers, investors and recruits. Respond in markdown.\\\n",
    "Include details of company culture, customers and careers/jobs if you have the information.\\\n",
    "If you have information about company's social media, emphasize it in the brochure with emojis of that social media platform.\"\n",
    "\n",
    "#Helper functions\n",
    "def get_links_ollama(url, model=\"llama3.2\"):\n",
    "    website = Website(url)\n",
    "    response = ollama_via_openai.chat.completions.create(\n",
    "        model = model,\n",
    "        messages = [\n",
    "            {\"role\": \"system\", \"content\": system_prompt},\n",
    "            {\"role\": \"user\", \"content\": get_links_user_prompt(website)}\n",
    "        ],\n",
    "        response_format={\"type\": \"json_object\"}\n",
    "    )\n",
    "    return json.loads(response.choices[0].message.content)\n",
    "\n",
    "\n",
    "def get_all_details_ollama(url, model=\"llama3.2\"):\n",
    "    result = \"Landing page:\\n\"\n",
    "    result += Website(url).get_contents()\n",
    "    links = get_links_ollama(url, model)\n",
    "    print(\"Found links:\", links)\n",
    "    for link in links[\"links\"]:\n",
    "        result += f\"\\n\\n{link['type']}\\n\"\n",
    "        result += Website(link[\"url\"]).get_contents()\n",
    "    return result\n",
    "\n",
    "def get_brochure_user_prompt_ollama(company_name, url, model=\"llama3.2\"):\n",
    "    user_prompt = f\"You are looking at a company called: {company_name}\\n\"\n",
    "    user_prompt += f\"Here are the contents of its landing page and other relevant pages; use this information to build a short brochure of the company in markdown.\\n\"\n",
    "    user_prompt += get_all_details_ollama(url, model)\n",
    "    user_prompt = user_prompt[:20_000] # Truncate if more than 5,000 characters\n",
    "    return user_prompt\n",
    "\n",
    "def create_brochure_ollama(company_name, url, model=\"llama3.2\"):\n",
    "    response = ollama_via_openai.chat.completions.create(\n",
    "        model=model,\n",
    "        messages=[\n",
    "            {\"role\": \"system\", \"content\": system_prompt_brochure},\n",
    "            {\"role\": \"user\", \"content\": get_brochure_user_prompt_ollama(company_name, url, model)}\n",
    "          ]\n",
    "    )\n",
    "    result = response.choices[0].message.content\n",
    "    display(Markdown(result))\n",
    "\n",
    "# Streaming the contents\n",
    "def stream_brochure_ollama(company_name, url, model=\"llama3.2\"):\n",
    "    stream = ollama_via_openai.chat.completions.create(\n",
    "        model=model,\n",
    "        messages=[\n",
    "            {\"role\": \"system\", \"content\": system_prompt_brochure},\n",
    "            {\"role\": \"user\", \"content\": get_brochure_user_prompt_ollama(company_name, url, model)}\n",
    "          ],\n",
    "        stream=True\n",
    "    )\n",
    "    \n",
    "    response = \"\"\n",
    "    display_handle = display(Markdown(\"\"), display_id=True)\n",
    "    for chunk in stream:\n",
    "        response += chunk.choices[0].delta.content or ''\n",
    "        response = response.replace(\"```\",\"\").replace(\"markdown\", \"\")\n",
    "        update_display(Markdown(response), display_id=display_handle.display_id)"
   ]
  },
  {
   "cell_type": "code",
   "execution_count": null,
   "id": "c4c2076f-57f0-4fa2-bdb9-a62c575d5f9d",
   "metadata": {},
   "outputs": [],
   "source": [
    "# Pull the model\n",
    "!ollama pull llama3.2"
   ]
  },
  {
   "cell_type": "code",
   "execution_count": null,
   "id": "0acb67a0-1e38-4ea3-a759-e517078a00fc",
   "metadata": {},
   "outputs": [],
   "source": [
    "med = Website(\"https://vercel.com/\")\n",
    "med.title"
   ]
  },
  {
   "cell_type": "code",
   "execution_count": null,
   "id": "c488d271-bb6d-414c-8671-04f86d1e60d6",
   "metadata": {},
   "outputs": [],
   "source": [
    "get_brochure_user_prompt_ollama(\"Vercel\", \"https://vercel.com/\")"
   ]
  },
  {
   "cell_type": "code",
   "execution_count": null,
   "id": "f0c283e3-9dd8-462d-8cff-d9283c5b7ee3",
   "metadata": {},
   "outputs": [],
   "source": [
    "create_brochure_ollama(\"Vercel\", \"https://vercel.com/\", \"llama3.2\")"
   ]
  },
  {
   "cell_type": "code",
   "execution_count": null,
   "id": "f9d52b89-0b0d-49e2-84e4-db2f993602cf",
   "metadata": {},
   "outputs": [],
   "source": [
    "stream_brochure_ollama(\"Vercel\", \"https://vercel.com/\", \"llama3.2\")"
   ]
  }
 ],
 "metadata": {
  "kernelspec": {
   "display_name": "Python 3 (ipykernel)",
   "language": "python",
   "name": "python3"
  },
  "language_info": {
   "codemirror_mode": {
    "name": "ipython",
    "version": 3
   },
   "file_extension": ".py",
   "mimetype": "text/x-python",
   "name": "python",
   "nbconvert_exporter": "python",
   "pygments_lexer": "ipython3",
   "version": "3.11.13"
  }
 },
 "nbformat": 4,
 "nbformat_minor": 5
}
