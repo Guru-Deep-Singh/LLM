{
 "cells": [
  {
   "cell_type": "markdown",
   "id": "91a21f62-76f7-484d-9a28-3d2740c6ae85",
   "metadata": {},
   "source": [
    "# Code Buddy: Your Technical Code Assistant\n",
    "Made by: Guru Deep Singh\n",
    "\n",
    "Code Buddy is an LLM powered assistant allowing you to ask it questions regarding your coding language issues"
   ]
  },
  {
   "cell_type": "code",
   "execution_count": null,
   "id": "facd1fe8-928a-4919-9704-9ede351c556c",
   "metadata": {},
   "outputs": [],
   "source": [
    "#imports\n",
    "import os\n",
    "from dotenv import load_dotenv\n",
    "from openai import OpenAI\n",
    "from IPython.display import Markdown, display, update_display"
   ]
  },
  {
   "cell_type": "code",
   "execution_count": null,
   "id": "0eff0906-4a0a-4c01-9d49-4f534a8cf3c6",
   "metadata": {},
   "outputs": [],
   "source": [
    "# Importing the class   \n",
    "from CodeBuddy import CodeBuddy"
   ]
  },
  {
   "cell_type": "code",
   "execution_count": null,
   "id": "17a25fac-691c-4faf-88fa-f005d1363d60",
   "metadata": {},
   "outputs": [],
   "source": [
    "# Helper functions for streaming\n",
    "def stream_markdown(generator):\n",
    "    buffer = \"\"\n",
    "    display_handle = display(Markdown(\"\"), display_id=True)\n",
    "\n",
    "    for part in generator:\n",
    "        buffer += str(part)\n",
    "        cleaned = buffer.replace(\"```\", \"\").replace(\"markdown\", \"\")\n",
    "        update_display(Markdown(cleaned), display_id=display_handle.display_id)\n",
    "\n",
    "def stream(generator):\n",
    "    for part in generator:\n",
    "        print(part, end=\"\", flush=True)"
   ]
  },
  {
   "cell_type": "code",
   "execution_count": null,
   "id": "c210123a-959d-4bf3-9def-777ec0d5362c",
   "metadata": {},
   "outputs": [],
   "source": [
    "question = \"\"\"\n",
    "Please explain what this code does and why:\n",
    "yield from {book.get(\"author\") for book in books if book.get(\"author\")}\n",
    "\"\"\"\n",
    "# Assistant powered by OpenAI API \n",
    "myBuddy = CodeBuddy(\"openai\", \"gpt-4o-mini\")\n"
   ]
  },
  {
   "cell_type": "code",
   "execution_count": null,
   "id": "e973cfa1-6037-4290-bb66-f8ec34904214",
   "metadata": {},
   "outputs": [],
   "source": [
    "output = myBuddy.run(userPrompt = question, stream=False)\n",
    "display(Markdown(output))"
   ]
  },
  {
   "cell_type": "code",
   "execution_count": null,
   "id": "61acef51-cf17-4d79-8104-dcc542975dc6",
   "metadata": {},
   "outputs": [],
   "source": [
    "stream_markdown(myBuddy.run(userPrompt=question, stream=True))"
   ]
  },
  {
   "cell_type": "markdown",
   "id": "915241ab-14ee-4108-b78e-994ea0262bf4",
   "metadata": {},
   "source": [
    "# Ollama based Code Buddy"
   ]
  },
  {
   "cell_type": "code",
   "execution_count": null,
   "id": "b3815e94-9651-49cf-9157-a22d57f3e656",
   "metadata": {},
   "outputs": [],
   "source": [
    "# Assistant powered by Ollama \n",
    "myBuddyOllama = CodeBuddy(\"ollama\", \"llama3.2\")"
   ]
  },
  {
   "cell_type": "code",
   "execution_count": null,
   "id": "89093d17-d1be-43bf-bbf5-03b1429ed627",
   "metadata": {},
   "outputs": [],
   "source": [
    "# Pulling model\n",
    "!ollama pull llama3.2"
   ]
  },
  {
   "cell_type": "code",
   "execution_count": null,
   "id": "4dda418e-06ba-4ab8-9d40-1e160e897d55",
   "metadata": {},
   "outputs": [],
   "source": [
    "outputOllama = myBuddyOllama.run(userPrompt = question, stream=False)\n",
    "display(Markdown(outputOllama))"
   ]
  },
  {
   "cell_type": "code",
   "execution_count": null,
   "id": "818988b0-2b5e-40ba-ae21-dd82ebd57e8c",
   "metadata": {},
   "outputs": [],
   "source": [
    "stream_markdown(myBuddyOllama.run(userPrompt=question, stream=True))"
   ]
  }
 ],
 "metadata": {
  "kernelspec": {
   "display_name": "Python 3 (ipykernel)",
   "language": "python",
   "name": "python3"
  },
  "language_info": {
   "codemirror_mode": {
    "name": "ipython",
    "version": 3
   },
   "file_extension": ".py",
   "mimetype": "text/x-python",
   "name": "python",
   "nbconvert_exporter": "python",
   "pygments_lexer": "ipython3",
   "version": "3.11.13"
  }
 },
 "nbformat": 4,
 "nbformat_minor": 5
}
