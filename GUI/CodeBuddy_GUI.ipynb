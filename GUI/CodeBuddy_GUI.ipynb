{
 "cells": [
  {
   "cell_type": "markdown",
   "id": "153857ba-7f50-43db-93d6-e3d0cac8484e",
   "metadata": {},
   "source": [
    "# CodeBuddy: Creating a GUI with Gradio"
   ]
  },
  {
   "cell_type": "code",
   "execution_count": null,
   "id": "28fa9020-56f4-4b77-85cc-72c5e3f515ef",
   "metadata": {},
   "outputs": [],
   "source": [
    "import os\n",
    "import sys\n",
    "from dotenv import load_dotenv\n",
    "from openai import OpenAI\n",
    "import gradio as gr"
   ]
  },
  {
   "cell_type": "code",
   "execution_count": null,
   "id": "d4cae92d-f0c7-46b8-9519-4abd23a0c4c1",
   "metadata": {},
   "outputs": [],
   "source": [
    "# Importing the CodeBuddy class\n",
    "localPath = \"../Code_Buddy/\"\n",
    "absolutePath = os.path.abspath(localPath)\n",
    "\n",
    "if absolutePath not in sys.path:\n",
    "    sys.path.append(absolutePath)\n",
    "\n",
    "from CodeBuddy import CodeBuddy     "
   ]
  },
  {
   "cell_type": "code",
   "execution_count": null,
   "id": "1741007d-49c4-4f7a-874d-e3c0dc2914c1",
   "metadata": {},
   "outputs": [],
   "source": [
    "# Gradio function call \n",
    "def runModel(model, userPrompt):\n",
    "    if model == \"llama3.2\":\n",
    "        !ollama pull llama3.2\n",
    "        stream = CodeBuddy(\"ollama\", model).run(userPrompt, True)\n",
    "    elif model == \"gpt-4o-mini\":\n",
    "        gr.Warning(\"Paid Service being Used\")\n",
    "        stream = CodeBuddy(\"openai\", model).run(userPrompt, True)\n",
    "    else:\n",
    "        raise ValueError(\"Model not supported\")\n",
    "    result = \"\"\n",
    "    for part in stream:\n",
    "        result += str(part)\n",
    "        yield result"
   ]
  },
  {
   "cell_type": "code",
   "execution_count": null,
   "id": "9cf89890-1604-47cf-9496-f02feb59f2c8",
   "metadata": {},
   "outputs": [],
   "source": [
    "interface = gr.Interface(fn=runModel, inputs=[gr.Dropdown([\"llama3.2\", \"gpt-4o-mini\"], label=\"Model\", value=\"llama3.2\"), gr.Textbox(label=\"Enter your Coding question here\")],\n",
    "                        outputs=gr.Markdown(label=\"Response:\"),\n",
    "                        flagging_mode=\"never\")\n",
    "interface.launch(inbrowser=True)"
   ]
  }
 ],
 "metadata": {
  "kernelspec": {
   "display_name": "Python 3 (ipykernel)",
   "language": "python",
   "name": "python3"
  },
  "language_info": {
   "codemirror_mode": {
    "name": "ipython",
    "version": 3
   },
   "file_extension": ".py",
   "mimetype": "text/x-python",
   "name": "python",
   "nbconvert_exporter": "python",
   "pygments_lexer": "ipython3",
   "version": "3.11.13"
  }
 },
 "nbformat": 4,
 "nbformat_minor": 5
}
